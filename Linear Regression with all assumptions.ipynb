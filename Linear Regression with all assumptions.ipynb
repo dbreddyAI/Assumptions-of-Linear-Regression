{
 "cells": [
  {
   "cell_type": "markdown",
   "metadata": {},
   "source": [
    "# LINEAR REGRESSION\n"
   ]
  },
  {
   "cell_type": "code",
   "execution_count": 1,
   "metadata": {},
   "outputs": [],
   "source": [
    "from pyforest import*\n",
    "from sklearn.model_selection import cross_val_score"
   ]
  },
  {
   "cell_type": "code",
   "execution_count": 2,
   "metadata": {},
   "outputs": [],
   "source": [
    "## TARGET is to predict the Tips\n",
    "\n",
    "tips= sns.load_dataset(\"tips\")"
   ]
  },
  {
   "cell_type": "code",
   "execution_count": 3,
   "metadata": {},
   "outputs": [
    {
     "data": {
      "text/html": [
       "<div>\n",
       "<style scoped>\n",
       "    .dataframe tbody tr th:only-of-type {\n",
       "        vertical-align: middle;\n",
       "    }\n",
       "\n",
       "    .dataframe tbody tr th {\n",
       "        vertical-align: top;\n",
       "    }\n",
       "\n",
       "    .dataframe thead th {\n",
       "        text-align: right;\n",
       "    }\n",
       "</style>\n",
       "<table border=\"1\" class=\"dataframe\">\n",
       "  <thead>\n",
       "    <tr style=\"text-align: right;\">\n",
       "      <th></th>\n",
       "      <th>total_bill</th>\n",
       "      <th>tip</th>\n",
       "      <th>sex</th>\n",
       "      <th>smoker</th>\n",
       "      <th>day</th>\n",
       "      <th>time</th>\n",
       "      <th>size</th>\n",
       "    </tr>\n",
       "  </thead>\n",
       "  <tbody>\n",
       "    <tr>\n",
       "      <th>0</th>\n",
       "      <td>16.99</td>\n",
       "      <td>1.01</td>\n",
       "      <td>Female</td>\n",
       "      <td>No</td>\n",
       "      <td>Sun</td>\n",
       "      <td>Dinner</td>\n",
       "      <td>2</td>\n",
       "    </tr>\n",
       "    <tr>\n",
       "      <th>1</th>\n",
       "      <td>10.34</td>\n",
       "      <td>1.66</td>\n",
       "      <td>Male</td>\n",
       "      <td>No</td>\n",
       "      <td>Sun</td>\n",
       "      <td>Dinner</td>\n",
       "      <td>3</td>\n",
       "    </tr>\n",
       "    <tr>\n",
       "      <th>2</th>\n",
       "      <td>21.01</td>\n",
       "      <td>3.50</td>\n",
       "      <td>Male</td>\n",
       "      <td>No</td>\n",
       "      <td>Sun</td>\n",
       "      <td>Dinner</td>\n",
       "      <td>3</td>\n",
       "    </tr>\n",
       "    <tr>\n",
       "      <th>3</th>\n",
       "      <td>23.68</td>\n",
       "      <td>3.31</td>\n",
       "      <td>Male</td>\n",
       "      <td>No</td>\n",
       "      <td>Sun</td>\n",
       "      <td>Dinner</td>\n",
       "      <td>2</td>\n",
       "    </tr>\n",
       "    <tr>\n",
       "      <th>4</th>\n",
       "      <td>24.59</td>\n",
       "      <td>3.61</td>\n",
       "      <td>Female</td>\n",
       "      <td>No</td>\n",
       "      <td>Sun</td>\n",
       "      <td>Dinner</td>\n",
       "      <td>4</td>\n",
       "    </tr>\n",
       "  </tbody>\n",
       "</table>\n",
       "</div>"
      ],
      "text/plain": [
       "   total_bill   tip     sex smoker  day    time  size\n",
       "0       16.99  1.01  Female     No  Sun  Dinner     2\n",
       "1       10.34  1.66    Male     No  Sun  Dinner     3\n",
       "2       21.01  3.50    Male     No  Sun  Dinner     3\n",
       "3       23.68  3.31    Male     No  Sun  Dinner     2\n",
       "4       24.59  3.61  Female     No  Sun  Dinner     4"
      ]
     },
     "execution_count": 3,
     "metadata": {},
     "output_type": "execute_result"
    }
   ],
   "source": [
    "tips.head()"
   ]
  },
  {
   "cell_type": "code",
   "execution_count": 4,
   "metadata": {},
   "outputs": [
    {
     "data": {
      "text/html": [
       "<div>\n",
       "<style scoped>\n",
       "    .dataframe tbody tr th:only-of-type {\n",
       "        vertical-align: middle;\n",
       "    }\n",
       "\n",
       "    .dataframe tbody tr th {\n",
       "        vertical-align: top;\n",
       "    }\n",
       "\n",
       "    .dataframe thead th {\n",
       "        text-align: right;\n",
       "    }\n",
       "</style>\n",
       "<table border=\"1\" class=\"dataframe\">\n",
       "  <thead>\n",
       "    <tr style=\"text-align: right;\">\n",
       "      <th></th>\n",
       "      <th>total_bill</th>\n",
       "      <th>tip</th>\n",
       "      <th>size</th>\n",
       "      <th>sex_Male</th>\n",
       "      <th>sex_Female</th>\n",
       "      <th>smoker_Yes</th>\n",
       "      <th>smoker_No</th>\n",
       "      <th>day_Thur</th>\n",
       "      <th>day_Fri</th>\n",
       "      <th>day_Sat</th>\n",
       "      <th>day_Sun</th>\n",
       "      <th>time_Lunch</th>\n",
       "      <th>time_Dinner</th>\n",
       "    </tr>\n",
       "  </thead>\n",
       "  <tbody>\n",
       "    <tr>\n",
       "      <th>0</th>\n",
       "      <td>16.99</td>\n",
       "      <td>1.01</td>\n",
       "      <td>2</td>\n",
       "      <td>0</td>\n",
       "      <td>1</td>\n",
       "      <td>0</td>\n",
       "      <td>1</td>\n",
       "      <td>0</td>\n",
       "      <td>0</td>\n",
       "      <td>0</td>\n",
       "      <td>1</td>\n",
       "      <td>0</td>\n",
       "      <td>1</td>\n",
       "    </tr>\n",
       "    <tr>\n",
       "      <th>1</th>\n",
       "      <td>10.34</td>\n",
       "      <td>1.66</td>\n",
       "      <td>3</td>\n",
       "      <td>1</td>\n",
       "      <td>0</td>\n",
       "      <td>0</td>\n",
       "      <td>1</td>\n",
       "      <td>0</td>\n",
       "      <td>0</td>\n",
       "      <td>0</td>\n",
       "      <td>1</td>\n",
       "      <td>0</td>\n",
       "      <td>1</td>\n",
       "    </tr>\n",
       "    <tr>\n",
       "      <th>2</th>\n",
       "      <td>21.01</td>\n",
       "      <td>3.50</td>\n",
       "      <td>3</td>\n",
       "      <td>1</td>\n",
       "      <td>0</td>\n",
       "      <td>0</td>\n",
       "      <td>1</td>\n",
       "      <td>0</td>\n",
       "      <td>0</td>\n",
       "      <td>0</td>\n",
       "      <td>1</td>\n",
       "      <td>0</td>\n",
       "      <td>1</td>\n",
       "    </tr>\n",
       "    <tr>\n",
       "      <th>3</th>\n",
       "      <td>23.68</td>\n",
       "      <td>3.31</td>\n",
       "      <td>2</td>\n",
       "      <td>1</td>\n",
       "      <td>0</td>\n",
       "      <td>0</td>\n",
       "      <td>1</td>\n",
       "      <td>0</td>\n",
       "      <td>0</td>\n",
       "      <td>0</td>\n",
       "      <td>1</td>\n",
       "      <td>0</td>\n",
       "      <td>1</td>\n",
       "    </tr>\n",
       "    <tr>\n",
       "      <th>4</th>\n",
       "      <td>24.59</td>\n",
       "      <td>3.61</td>\n",
       "      <td>4</td>\n",
       "      <td>0</td>\n",
       "      <td>1</td>\n",
       "      <td>0</td>\n",
       "      <td>1</td>\n",
       "      <td>0</td>\n",
       "      <td>0</td>\n",
       "      <td>0</td>\n",
       "      <td>1</td>\n",
       "      <td>0</td>\n",
       "      <td>1</td>\n",
       "    </tr>\n",
       "  </tbody>\n",
       "</table>\n",
       "</div>"
      ],
      "text/plain": [
       "   total_bill   tip  size  sex_Male  sex_Female  smoker_Yes  smoker_No  \\\n",
       "0       16.99  1.01     2         0           1           0          1   \n",
       "1       10.34  1.66     3         1           0           0          1   \n",
       "2       21.01  3.50     3         1           0           0          1   \n",
       "3       23.68  3.31     2         1           0           0          1   \n",
       "4       24.59  3.61     4         0           1           0          1   \n",
       "\n",
       "   day_Thur  day_Fri  day_Sat  day_Sun  time_Lunch  time_Dinner  \n",
       "0         0        0        0        1           0            1  \n",
       "1         0        0        0        1           0            1  \n",
       "2         0        0        0        1           0            1  \n",
       "3         0        0        0        1           0            1  \n",
       "4         0        0        0        1           0            1  "
      ]
     },
     "execution_count": 4,
     "metadata": {},
     "output_type": "execute_result"
    }
   ],
   "source": [
    "## converting into dummies\n",
    "\n",
    "tips_dummy=pd.get_dummies(tips)\n",
    "tips_dummy.head()"
   ]
  },
  {
   "cell_type": "code",
   "execution_count": 5,
   "metadata": {},
   "outputs": [
    {
     "data": {
      "image/png": "[encoded data removed]",
      "text/plain": [
       "<Figure size 576x396 with 1 Axes>"
      ]
     },
     "metadata": {},
     "output_type": "display_data"
    }
   ],
   "source": [
    "plt.scatter(tips.total_bill,tips.tip,color=\"hotpink\")\n",
    "plt.show()      #showing Linear"
   ]
  },
  {
   "cell_type": "code",
   "execution_count": 6,
   "metadata": {},
   "outputs": [],
   "source": [
    "#importing standard scaler and train and test split\n",
    "from sklearn.preprocessing import StandardScaler\n",
    "sc=StandardScaler()  # definning the calssifier\n",
    "\n"
   ]
  },
  {
   "cell_type": "code",
   "execution_count": 7,
   "metadata": {},
   "outputs": [],
   "source": [
    "from sklearn.model_selection import train_test_split\n"
   ]
  },
  {
   "cell_type": "code",
   "execution_count": 8,
   "metadata": {},
   "outputs": [],
   "source": [
    "#Define X and Y\n",
    "\n",
    "x=tips_dummy.drop('tip',axis=1)\n",
    "y=tips_dummy.tip"
   ]
  },
  {
   "cell_type": "code",
   "execution_count": 9,
   "metadata": {},
   "outputs": [
    {
     "data": {
      "text/plain": [
       "0    1.01\n",
       "1    1.66\n",
       "2    3.50\n",
       "3    3.31\n",
       "4    3.61\n",
       "Name: tip, dtype: float64"
      ]
     },
     "execution_count": 9,
     "metadata": {},
     "output_type": "execute_result"
    }
   ],
   "source": [
    "y.head()"
   ]
  },
  {
   "cell_type": "code",
   "execution_count": 10,
   "metadata": {},
   "outputs": [],
   "source": [
    "x_train,x_test,y_train,y_test=train_test_split(x,y,test_size=0.20,random_state=234)\n",
    "                        #RANDOM_STATE : there is a table in background for selection quality and prediction check"
   ]
  },
  {
   "cell_type": "code",
   "execution_count": 11,
   "metadata": {},
   "outputs": [
    {
     "data": {
      "text/html": [
       "<div>\n",
       "<style scoped>\n",
       "    .dataframe tbody tr th:only-of-type {\n",
       "        vertical-align: middle;\n",
       "    }\n",
       "\n",
       "    .dataframe tbody tr th {\n",
       "        vertical-align: top;\n",
       "    }\n",
       "\n",
       "    .dataframe thead th {\n",
       "        text-align: right;\n",
       "    }\n",
       "</style>\n",
       "<table border=\"1\" class=\"dataframe\">\n",
       "  <thead>\n",
       "    <tr style=\"text-align: right;\">\n",
       "      <th></th>\n",
       "      <th>total_bill</th>\n",
       "      <th>size</th>\n",
       "      <th>sex_Male</th>\n",
       "      <th>sex_Female</th>\n",
       "      <th>smoker_Yes</th>\n",
       "      <th>smoker_No</th>\n",
       "      <th>day_Thur</th>\n",
       "      <th>day_Fri</th>\n",
       "      <th>day_Sat</th>\n",
       "      <th>day_Sun</th>\n",
       "      <th>time_Lunch</th>\n",
       "      <th>time_Dinner</th>\n",
       "    </tr>\n",
       "  </thead>\n",
       "  <tbody>\n",
       "    <tr>\n",
       "      <th>0</th>\n",
       "      <td>-1.410557</td>\n",
       "      <td>-0.660565</td>\n",
       "      <td>0.748331</td>\n",
       "      <td>-0.748331</td>\n",
       "      <td>1.307032</td>\n",
       "      <td>-1.307032</td>\n",
       "      <td>-0.610933</td>\n",
       "      <td>-0.256074</td>\n",
       "      <td>-0.740013</td>\n",
       "      <td>1.482134</td>\n",
       "      <td>-0.634726</td>\n",
       "      <td>0.634726</td>\n",
       "    </tr>\n",
       "    <tr>\n",
       "      <th>1</th>\n",
       "      <td>0.751555</td>\n",
       "      <td>1.384040</td>\n",
       "      <td>0.748331</td>\n",
       "      <td>-0.748331</td>\n",
       "      <td>-0.765092</td>\n",
       "      <td>0.765092</td>\n",
       "      <td>-0.610933</td>\n",
       "      <td>-0.256074</td>\n",
       "      <td>-0.740013</td>\n",
       "      <td>1.482134</td>\n",
       "      <td>-0.634726</td>\n",
       "      <td>0.634726</td>\n",
       "    </tr>\n",
       "    <tr>\n",
       "      <th>2</th>\n",
       "      <td>0.935495</td>\n",
       "      <td>0.361738</td>\n",
       "      <td>0.748331</td>\n",
       "      <td>-0.748331</td>\n",
       "      <td>-0.765092</td>\n",
       "      <td>0.765092</td>\n",
       "      <td>-0.610933</td>\n",
       "      <td>-0.256074</td>\n",
       "      <td>-0.740013</td>\n",
       "      <td>1.482134</td>\n",
       "      <td>-0.634726</td>\n",
       "      <td>0.634726</td>\n",
       "    </tr>\n",
       "    <tr>\n",
       "      <th>3</th>\n",
       "      <td>0.988363</td>\n",
       "      <td>0.361738</td>\n",
       "      <td>0.748331</td>\n",
       "      <td>-0.748331</td>\n",
       "      <td>-0.765092</td>\n",
       "      <td>0.765092</td>\n",
       "      <td>-0.610933</td>\n",
       "      <td>-0.256074</td>\n",
       "      <td>1.351328</td>\n",
       "      <td>-0.674703</td>\n",
       "      <td>-0.634726</td>\n",
       "      <td>0.634726</td>\n",
       "    </tr>\n",
       "    <tr>\n",
       "      <th>4</th>\n",
       "      <td>-0.821290</td>\n",
       "      <td>-0.660565</td>\n",
       "      <td>0.748331</td>\n",
       "      <td>-0.748331</td>\n",
       "      <td>1.307032</td>\n",
       "      <td>-1.307032</td>\n",
       "      <td>-0.610933</td>\n",
       "      <td>-0.256074</td>\n",
       "      <td>1.351328</td>\n",
       "      <td>-0.674703</td>\n",
       "      <td>-0.634726</td>\n",
       "      <td>0.634726</td>\n",
       "    </tr>\n",
       "  </tbody>\n",
       "</table>\n",
       "</div>"
      ],
      "text/plain": [
       "   total_bill      size  sex_Male  sex_Female  smoker_Yes  smoker_No  \\\n",
       "0   -1.410557 -0.660565  0.748331   -0.748331    1.307032  -1.307032   \n",
       "1    0.751555  1.384040  0.748331   -0.748331   -0.765092   0.765092   \n",
       "2    0.935495  0.361738  0.748331   -0.748331   -0.765092   0.765092   \n",
       "3    0.988363  0.361738  0.748331   -0.748331   -0.765092   0.765092   \n",
       "4   -0.821290 -0.660565  0.748331   -0.748331    1.307032  -1.307032   \n",
       "\n",
       "   day_Thur   day_Fri   day_Sat   day_Sun  time_Lunch  time_Dinner  \n",
       "0 -0.610933 -0.256074 -0.740013  1.482134   -0.634726     0.634726  \n",
       "1 -0.610933 -0.256074 -0.740013  1.482134   -0.634726     0.634726  \n",
       "2 -0.610933 -0.256074 -0.740013  1.482134   -0.634726     0.634726  \n",
       "3 -0.610933 -0.256074  1.351328 -0.674703   -0.634726     0.634726  \n",
       "4 -0.610933 -0.256074  1.351328 -0.674703   -0.634726     0.634726  "
      ]
     },
     "execution_count": 11,
     "metadata": {},
     "output_type": "execute_result"
    }
   ],
   "source": [
    "scaled_train=pd.DataFrame(sc.fit_transform(x_train),columns=x_train.columns)\n",
    "scaled_train.head()"
   ]
  },
  {
   "cell_type": "code",
   "execution_count": 12,
   "metadata": {},
   "outputs": [
    {
     "data": {
      "text/html": [
       "<div>\n",
       "<style scoped>\n",
       "    .dataframe tbody tr th:only-of-type {\n",
       "        vertical-align: middle;\n",
       "    }\n",
       "\n",
       "    .dataframe tbody tr th {\n",
       "        vertical-align: top;\n",
       "    }\n",
       "\n",
       "    .dataframe thead th {\n",
       "        text-align: right;\n",
       "    }\n",
       "</style>\n",
       "<table border=\"1\" class=\"dataframe\">\n",
       "  <thead>\n",
       "    <tr style=\"text-align: right;\">\n",
       "      <th></th>\n",
       "      <th>total_bill</th>\n",
       "      <th>size</th>\n",
       "      <th>sex_Male</th>\n",
       "      <th>sex_Female</th>\n",
       "      <th>smoker_Yes</th>\n",
       "      <th>smoker_No</th>\n",
       "      <th>day_Thur</th>\n",
       "      <th>day_Fri</th>\n",
       "      <th>day_Sat</th>\n",
       "      <th>day_Sun</th>\n",
       "      <th>time_Lunch</th>\n",
       "      <th>time_Dinner</th>\n",
       "    </tr>\n",
       "  </thead>\n",
       "  <tbody>\n",
       "    <tr>\n",
       "      <th>0</th>\n",
       "      <td>-0.746393</td>\n",
       "      <td>-0.660565</td>\n",
       "      <td>0.748331</td>\n",
       "      <td>-0.748331</td>\n",
       "      <td>-0.765092</td>\n",
       "      <td>0.765092</td>\n",
       "      <td>-0.610933</td>\n",
       "      <td>-0.256074</td>\n",
       "      <td>1.351328</td>\n",
       "      <td>-0.674703</td>\n",
       "      <td>-0.634726</td>\n",
       "      <td>0.634726</td>\n",
       "    </tr>\n",
       "    <tr>\n",
       "      <th>1</th>\n",
       "      <td>-0.734277</td>\n",
       "      <td>-0.660565</td>\n",
       "      <td>-1.336306</td>\n",
       "      <td>1.336306</td>\n",
       "      <td>-0.765092</td>\n",
       "      <td>0.765092</td>\n",
       "      <td>-0.610933</td>\n",
       "      <td>-0.256074</td>\n",
       "      <td>-0.740013</td>\n",
       "      <td>1.482134</td>\n",
       "      <td>-0.634726</td>\n",
       "      <td>0.634726</td>\n",
       "    </tr>\n",
       "    <tr>\n",
       "      <th>2</th>\n",
       "      <td>-0.552541</td>\n",
       "      <td>-0.660565</td>\n",
       "      <td>0.748331</td>\n",
       "      <td>-0.748331</td>\n",
       "      <td>-0.765092</td>\n",
       "      <td>0.765092</td>\n",
       "      <td>-0.610933</td>\n",
       "      <td>-0.256074</td>\n",
       "      <td>-0.740013</td>\n",
       "      <td>1.482134</td>\n",
       "      <td>-0.634726</td>\n",
       "      <td>0.634726</td>\n",
       "    </tr>\n",
       "    <tr>\n",
       "      <th>3</th>\n",
       "      <td>1.235084</td>\n",
       "      <td>0.361738</td>\n",
       "      <td>0.748331</td>\n",
       "      <td>-0.748331</td>\n",
       "      <td>-0.765092</td>\n",
       "      <td>0.765092</td>\n",
       "      <td>-0.610933</td>\n",
       "      <td>-0.256074</td>\n",
       "      <td>1.351328</td>\n",
       "      <td>-0.674703</td>\n",
       "      <td>-0.634726</td>\n",
       "      <td>0.634726</td>\n",
       "    </tr>\n",
       "    <tr>\n",
       "      <th>4</th>\n",
       "      <td>0.239389</td>\n",
       "      <td>-0.660565</td>\n",
       "      <td>0.748331</td>\n",
       "      <td>-0.748331</td>\n",
       "      <td>-0.765092</td>\n",
       "      <td>0.765092</td>\n",
       "      <td>-0.610933</td>\n",
       "      <td>-0.256074</td>\n",
       "      <td>-0.740013</td>\n",
       "      <td>1.482134</td>\n",
       "      <td>-0.634726</td>\n",
       "      <td>0.634726</td>\n",
       "    </tr>\n",
       "  </tbody>\n",
       "</table>\n",
       "</div>"
      ],
      "text/plain": [
       "   total_bill      size  sex_Male  sex_Female  smoker_Yes  smoker_No  \\\n",
       "0   -0.746393 -0.660565  0.748331   -0.748331   -0.765092   0.765092   \n",
       "1   -0.734277 -0.660565 -1.336306    1.336306   -0.765092   0.765092   \n",
       "2   -0.552541 -0.660565  0.748331   -0.748331   -0.765092   0.765092   \n",
       "3    1.235084  0.361738  0.748331   -0.748331   -0.765092   0.765092   \n",
       "4    0.239389 -0.660565  0.748331   -0.748331   -0.765092   0.765092   \n",
       "\n",
       "   day_Thur   day_Fri   day_Sat   day_Sun  time_Lunch  time_Dinner  \n",
       "0 -0.610933 -0.256074  1.351328 -0.674703   -0.634726     0.634726  \n",
       "1 -0.610933 -0.256074 -0.740013  1.482134   -0.634726     0.634726  \n",
       "2 -0.610933 -0.256074 -0.740013  1.482134   -0.634726     0.634726  \n",
       "3 -0.610933 -0.256074  1.351328 -0.674703   -0.634726     0.634726  \n",
       "4 -0.610933 -0.256074 -0.740013  1.482134   -0.634726     0.634726  "
      ]
     },
     "execution_count": 12,
     "metadata": {},
     "output_type": "execute_result"
    }
   ],
   "source": [
    "scaled_test=pd.DataFrame(sc.transform(x_test),columns=x_test.columns)\n",
    "scaled_test.head()"
   ]
  },
  {
   "cell_type": "code",
   "execution_count": null,
   "metadata": {},
   "outputs": [],
   "source": []
  },
  {
   "cell_type": "markdown",
   "metadata": {},
   "source": [
    "# Linear Regression: SKLEARN"
   ]
  },
  {
   "cell_type": "code",
   "execution_count": 13,
   "metadata": {},
   "outputs": [],
   "source": [
    "from sklearn.linear_model import LinearRegression\n",
    "lr=LinearRegression()"
   ]
  },
  {
   "cell_type": "code",
   "execution_count": 14,
   "metadata": {},
   "outputs": [],
   "source": [
    "model_lr=lr.fit(scaled_train,y_train).predict(scaled_test)"
   ]
  },
  {
   "cell_type": "code",
   "execution_count": 15,
   "metadata": {},
   "outputs": [
    {
     "name": "stdout",
     "output_type": "stream",
     "text": [
      "the R square of the model is 0.4263876615064839\n"
     ]
    }
   ],
   "source": [
    "## finding RSQUARED and RMSE\n",
    "from sklearn.metrics import r2_score,mean_squared_error,mean_absolute_error\n",
    "print('the R square of the model is' ,r2_score(y_test,model_lr))"
   ]
  },
  {
   "cell_type": "code",
   "execution_count": 16,
   "metadata": {},
   "outputs": [
    {
     "name": "stdout",
     "output_type": "stream",
     "text": [
      "the RMSE is 1.0685770660241278\n"
     ]
    }
   ],
   "source": [
    "print('the RMSE is' ,np.sqrt(mean_squared_error(y_test,model_lr)))"
   ]
  },
  {
   "cell_type": "code",
   "execution_count": 17,
   "metadata": {},
   "outputs": [
    {
     "ename": "TypeError",
     "evalue": "estimator should be an estimator implementing 'fit' method, array([2.23995129, 2.47913682, 2.50876433, 3.99520103, 3.10682906,\n       2.00954248, 2.30585023, 3.563788  , 2.63441152, 5.50597986,\n       2.26929298, 4.7818899 , 2.21291721, 2.10104057, 2.16947689,\n       2.71006011, 4.5161282 , 3.41988647, 2.98455435, 3.48161565,\n       2.65252446, 3.03576168, 2.31254662, 2.0311693 , 2.10881244,\n       3.38921411, 3.1789295 , 3.36259649, 2.3748955 , 2.96832293,\n       2.87891566, 2.65739043, 2.59891613, 2.89505678, 3.03954048,\n       2.54226502, 2.61125175, 2.15363069, 2.40645283, 2.06291913,\n       2.32123895, 2.42470908, 2.25511038, 2.47553758, 2.21361934,\n       1.98481713, 3.76390828, 2.33583704, 2.48713751]) was passed",
     "output_type": "error",
     "traceback": [
      "\u001b[1;31m---------------------------------------------------------------------------\u001b[0m",
      "\u001b[1;31mTypeError\u001b[0m                                 Traceback (most recent call last)",
      "\u001b[1;32m<ipython-input-17-726b202063ae>\u001b[0m in \u001b[0;36m<module>\u001b[1;34m\u001b[0m\n\u001b[0;32m      1\u001b[0m \u001b[1;31m#  BIAS AND VARIANCE ERRORS:--\u001b[0m\u001b[1;33m\u001b[0m\u001b[1;33m\u001b[0m\u001b[1;33m\u001b[0m\u001b[0m\n\u001b[1;32m----> 2\u001b[1;33m \u001b[0mscoresdt\u001b[0m \u001b[1;33m=\u001b[0m \u001b[0mcross_val_score\u001b[0m\u001b[1;33m(\u001b[0m\u001b[0mmodel_lr\u001b[0m\u001b[1;33m,\u001b[0m \u001b[0mx_train\u001b[0m\u001b[1;33m,\u001b[0m \u001b[0my_train\u001b[0m\u001b[1;33m,\u001b[0m \u001b[0mcv\u001b[0m\u001b[1;33m=\u001b[0m\u001b[1;36m10\u001b[0m\u001b[1;33m)\u001b[0m\u001b[1;33m\u001b[0m\u001b[1;33m\u001b[0m\u001b[0m\n\u001b[0m\u001b[0;32m      3\u001b[0m \u001b[0mprint\u001b[0m\u001b[1;33m(\u001b[0m\u001b[1;34m'Bias error='\u001b[0m\u001b[1;33m,\u001b[0m\u001b[1;36m1\u001b[0m\u001b[1;33m-\u001b[0m\u001b[0mnp\u001b[0m\u001b[1;33m.\u001b[0m\u001b[0mmean\u001b[0m\u001b[1;33m(\u001b[0m\u001b[0mscoresdt\u001b[0m\u001b[1;33m)\u001b[0m\u001b[1;33m)\u001b[0m\u001b[1;33m\u001b[0m\u001b[1;33m\u001b[0m\u001b[0m\n\u001b[0;32m      4\u001b[0m \u001b[0mprint\u001b[0m\u001b[1;33m(\u001b[0m\u001b[1;34m'Variance Error='\u001b[0m\u001b[1;33m,\u001b[0m\u001b[0mnp\u001b[0m\u001b[1;33m.\u001b[0m\u001b[0mstd\u001b[0m\u001b[1;33m(\u001b[0m\u001b[0mscoresdt\u001b[0m\u001b[1;33m,\u001b[0m\u001b[0mddof\u001b[0m\u001b[1;33m=\u001b[0m\u001b[1;36m1\u001b[0m\u001b[1;33m)\u001b[0m\u001b[1;33m)\u001b[0m\u001b[1;33m\u001b[0m\u001b[1;33m\u001b[0m\u001b[0m\n",
      "\u001b[1;32m~\\Anaconda3\\lib\\site-packages\\sklearn\\model_selection\\_validation.py\u001b[0m in \u001b[0;36mcross_val_score\u001b[1;34m(estimator, X, y, groups, scoring, cv, n_jobs, verbose, fit_params, pre_dispatch, error_score)\u001b[0m\n\u001b[0;32m    380\u001b[0m     \"\"\"\n\u001b[0;32m    381\u001b[0m     \u001b[1;31m# To ensure multimetric format is not supported\u001b[0m\u001b[1;33m\u001b[0m\u001b[1;33m\u001b[0m\u001b[1;33m\u001b[0m\u001b[0m\n\u001b[1;32m--> 382\u001b[1;33m     \u001b[0mscorer\u001b[0m \u001b[1;33m=\u001b[0m \u001b[0mcheck_scoring\u001b[0m\u001b[1;33m(\u001b[0m\u001b[0mestimator\u001b[0m\u001b[1;33m,\u001b[0m \u001b[0mscoring\u001b[0m\u001b[1;33m=\u001b[0m\u001b[0mscoring\u001b[0m\u001b[1;33m)\u001b[0m\u001b[1;33m\u001b[0m\u001b[1;33m\u001b[0m\u001b[0m\n\u001b[0m\u001b[0;32m    383\u001b[0m \u001b[1;33m\u001b[0m\u001b[0m\n\u001b[0;32m    384\u001b[0m     cv_results = cross_validate(estimator=estimator, X=X, y=y, groups=groups,\n",
      "\u001b[1;32m~\\Anaconda3\\lib\\site-packages\\sklearn\\metrics\\_scorer.py\u001b[0m in \u001b[0;36mcheck_scoring\u001b[1;34m(estimator, scoring, allow_none)\u001b[0m\n\u001b[0;32m    399\u001b[0m     \u001b[1;32mif\u001b[0m \u001b[1;32mnot\u001b[0m \u001b[0mhasattr\u001b[0m\u001b[1;33m(\u001b[0m\u001b[0mestimator\u001b[0m\u001b[1;33m,\u001b[0m \u001b[1;34m'fit'\u001b[0m\u001b[1;33m)\u001b[0m\u001b[1;33m:\u001b[0m\u001b[1;33m\u001b[0m\u001b[1;33m\u001b[0m\u001b[0m\n\u001b[0;32m    400\u001b[0m         raise TypeError(\"estimator should be an estimator implementing \"\n\u001b[1;32m--> 401\u001b[1;33m                         \"'fit' method, %r was passed\" % estimator)\n\u001b[0m\u001b[0;32m    402\u001b[0m     \u001b[1;32mif\u001b[0m \u001b[0misinstance\u001b[0m\u001b[1;33m(\u001b[0m\u001b[0mscoring\u001b[0m\u001b[1;33m,\u001b[0m \u001b[0mstr\u001b[0m\u001b[1;33m)\u001b[0m\u001b[1;33m:\u001b[0m\u001b[1;33m\u001b[0m\u001b[1;33m\u001b[0m\u001b[0m\n\u001b[0;32m    403\u001b[0m         \u001b[1;32mreturn\u001b[0m \u001b[0mget_scorer\u001b[0m\u001b[1;33m(\u001b[0m\u001b[0mscoring\u001b[0m\u001b[1;33m)\u001b[0m\u001b[1;33m\u001b[0m\u001b[1;33m\u001b[0m\u001b[0m\n",
      "\u001b[1;31mTypeError\u001b[0m: estimator should be an estimator implementing 'fit' method, array([2.23995129, 2.47913682, 2.50876433, 3.99520103, 3.10682906,\n       2.00954248, 2.30585023, 3.563788  , 2.63441152, 5.50597986,\n       2.26929298, 4.7818899 , 2.21291721, 2.10104057, 2.16947689,\n       2.71006011, 4.5161282 , 3.41988647, 2.98455435, 3.48161565,\n       2.65252446, 3.03576168, 2.31254662, 2.0311693 , 2.10881244,\n       3.38921411, 3.1789295 , 3.36259649, 2.3748955 , 2.96832293,\n       2.87891566, 2.65739043, 2.59891613, 2.89505678, 3.03954048,\n       2.54226502, 2.61125175, 2.15363069, 2.40645283, 2.06291913,\n       2.32123895, 2.42470908, 2.25511038, 2.47553758, 2.21361934,\n       1.98481713, 3.76390828, 2.33583704, 2.48713751]) was passed"
     ]
    }
   ],
   "source": [
    "#  BIAS AND VARIANCE ERRORS:--\n",
    "scoresdt = cross_val_score(model_lr, x_train, y_train, cv=10)\n",
    "print('Bias error=',1-np.mean(scoresdt))\n",
    "print('Variance Error=',np.std(scoresdt,ddof=1))"
   ]
  },
  {
   "cell_type": "code",
   "execution_count": 18,
   "metadata": {},
   "outputs": [
    {
     "data": {
      "text/plain": [
       "array([ 0.75519901,  0.25319337, -0.02581255,  0.02581255, -0.02764309,\n",
       "        0.02764309, -0.0645732 , -0.02244224,  0.00841393,  0.06491566,\n",
       "        0.04243167, -0.04243167])"
      ]
     },
     "execution_count": 18,
     "metadata": {},
     "output_type": "execute_result"
    }
   ],
   "source": [
    "## Slope and intercept\n",
    "\n",
    "lr.coef_   #slopes"
   ]
  },
  {
   "cell_type": "code",
   "execution_count": 19,
   "metadata": {},
   "outputs": [
    {
     "data": {
      "text/plain": [
       "3.0083076923076923"
      ]
     },
     "execution_count": 19,
     "metadata": {},
     "output_type": "execute_result"
    }
   ],
   "source": [
    "#intercept\n",
    "lr.intercept_         # intercept"
   ]
  },
  {
   "cell_type": "code",
   "execution_count": 20,
   "metadata": {},
   "outputs": [
    {
     "data": {
      "text/plain": [
       "0.7908913526007442"
      ]
     },
     "execution_count": 20,
     "metadata": {},
     "output_type": "execute_result"
    }
   ],
   "source": [
    "##Mean absolute error\n",
    "mean_absolute_error(y_test,model_lr) ## MAE always less than RMSE\n",
    "\n",
    "\n",
    "##Hence to decide id linear model is a good model basis R2 score and rmse.\n",
    "##higher the r_squared and lower the rmse is ideal situation.hence both metrics are inversely proportional"
   ]
  },
  {
   "cell_type": "code",
   "execution_count": 21,
   "metadata": {},
   "outputs": [
    {
     "name": "stdout",
     "output_type": "stream",
     "text": [
      "the R square of the model is 0.39000734760851075\n",
      "the RMSE is 1.101942437383243\n"
     ]
    }
   ],
   "source": [
    "from sklearn.ensemble import RandomForestRegressor\n",
    "\n",
    "rf = RandomForestRegressor(random_state=123)   #for rigid value\n",
    "\n",
    "randomforest = rf.fit(scaled_train, y_train).predict(scaled_test)\n",
    "\n",
    "print('the R square of the model is' ,r2_score(y_test,randomforest))  ## R square will increase i.e features will explain the tips target\n",
    "\n",
    "print('the RMSE is' ,np.sqrt(mean_squared_error(y_test,randomforest)))  ## RMSE also reduce here i.e prediction will more good"
   ]
  },
  {
   "cell_type": "code",
   "execution_count": 22,
   "metadata": {},
   "outputs": [
    {
     "data": {
      "image/png": "[encoded data removed]",
      "text/plain": [
       "<Figure size 576x396 with 1 Axes>"
      ]
     },
     "metadata": {},
     "output_type": "display_data"
    }
   ],
   "source": [
    "## Visualization of Actual vs LinearRegression vs Random Forest\n",
    "\n",
    "sns.distplot(y,label='Actual values')\n",
    "plt.show()"
   ]
  },
  {
   "cell_type": "code",
   "execution_count": 23,
   "metadata": {},
   "outputs": [
    {
     "data": {
      "image/png": "[encoded data removed]",
      "text/plain": [
       "<Figure size 576x396 with 1 Axes>"
      ]
     },
     "metadata": {},
     "output_type": "display_data"
    }
   ],
   "source": [
    "sns.distplot(y,label='Actual values')\n",
    "sns.distplot(model_lr,label='LinearRegression')\n",
    "plt.show()"
   ]
  },
  {
   "cell_type": "code",
   "execution_count": 24,
   "metadata": {},
   "outputs": [
    {
     "data": {
      "image/png": "[encoded data removed]",
      "text/plain": [
       "<Figure size 576x396 with 1 Axes>"
      ]
     },
     "metadata": {},
     "output_type": "display_data"
    }
   ],
   "source": [
    "sns.distplot(y,label='Actual values')\n",
    "sns.distplot(model_lr,label='LinearRegression')\n",
    "sns.distplot(randomforest,label='RandomForest')\n",
    "plt.legend()\n",
    "plt.show()\n",
    "\n",
    "## Linear Regression is not a good model bcoz it will extrapolate prediction the values as it is higher in visual then actual and Random forest is quite good coz it is near to actual value and rigid but both the model are not perfect for better prediction"
   ]
  },
  {
   "cell_type": "markdown",
   "metadata": {},
   "source": [
    "# model by scipy.stats"
   ]
  },
  {
   "cell_type": "code",
   "execution_count": 25,
   "metadata": {},
   "outputs": [],
   "source": [
    "import scipy.stats as stats\n",
    "import statsmodels.api as sts"
   ]
  },
  {
   "cell_type": "code",
   "execution_count": 26,
   "metadata": {},
   "outputs": [
    {
     "name": "stderr",
     "output_type": "stream",
     "text": [
      "C:\\Users\\hp\\Anaconda3\\lib\\site-packages\\numpy\\core\\fromnumeric.py:2389: FutureWarning: Method .ptp is deprecated and will be removed in a future version. Use numpy.ptp instead.\n",
      "  return ptp(axis=axis, out=out, **kwargs)\n"
     ]
    },
    {
     "data": {
      "text/html": [
       "<div>\n",
       "<style scoped>\n",
       "    .dataframe tbody tr th:only-of-type {\n",
       "        vertical-align: middle;\n",
       "    }\n",
       "\n",
       "    .dataframe tbody tr th {\n",
       "        vertical-align: top;\n",
       "    }\n",
       "\n",
       "    .dataframe thead th {\n",
       "        text-align: right;\n",
       "    }\n",
       "</style>\n",
       "<table border=\"1\" class=\"dataframe\">\n",
       "  <thead>\n",
       "    <tr style=\"text-align: right;\">\n",
       "      <th></th>\n",
       "      <th>const</th>\n",
       "      <th>total_bill</th>\n",
       "      <th>size</th>\n",
       "      <th>sex_Male</th>\n",
       "      <th>sex_Female</th>\n",
       "      <th>smoker_Yes</th>\n",
       "      <th>smoker_No</th>\n",
       "      <th>day_Thur</th>\n",
       "      <th>day_Fri</th>\n",
       "      <th>day_Sat</th>\n",
       "      <th>day_Sun</th>\n",
       "      <th>time_Lunch</th>\n",
       "      <th>time_Dinner</th>\n",
       "    </tr>\n",
       "  </thead>\n",
       "  <tbody>\n",
       "    <tr>\n",
       "      <th>0</th>\n",
       "      <td>1.0</td>\n",
       "      <td>16.99</td>\n",
       "      <td>2</td>\n",
       "      <td>0</td>\n",
       "      <td>1</td>\n",
       "      <td>0</td>\n",
       "      <td>1</td>\n",
       "      <td>0</td>\n",
       "      <td>0</td>\n",
       "      <td>0</td>\n",
       "      <td>1</td>\n",
       "      <td>0</td>\n",
       "      <td>1</td>\n",
       "    </tr>\n",
       "    <tr>\n",
       "      <th>1</th>\n",
       "      <td>1.0</td>\n",
       "      <td>10.34</td>\n",
       "      <td>3</td>\n",
       "      <td>1</td>\n",
       "      <td>0</td>\n",
       "      <td>0</td>\n",
       "      <td>1</td>\n",
       "      <td>0</td>\n",
       "      <td>0</td>\n",
       "      <td>0</td>\n",
       "      <td>1</td>\n",
       "      <td>0</td>\n",
       "      <td>1</td>\n",
       "    </tr>\n",
       "    <tr>\n",
       "      <th>2</th>\n",
       "      <td>1.0</td>\n",
       "      <td>21.01</td>\n",
       "      <td>3</td>\n",
       "      <td>1</td>\n",
       "      <td>0</td>\n",
       "      <td>0</td>\n",
       "      <td>1</td>\n",
       "      <td>0</td>\n",
       "      <td>0</td>\n",
       "      <td>0</td>\n",
       "      <td>1</td>\n",
       "      <td>0</td>\n",
       "      <td>1</td>\n",
       "    </tr>\n",
       "    <tr>\n",
       "      <th>3</th>\n",
       "      <td>1.0</td>\n",
       "      <td>23.68</td>\n",
       "      <td>2</td>\n",
       "      <td>1</td>\n",
       "      <td>0</td>\n",
       "      <td>0</td>\n",
       "      <td>1</td>\n",
       "      <td>0</td>\n",
       "      <td>0</td>\n",
       "      <td>0</td>\n",
       "      <td>1</td>\n",
       "      <td>0</td>\n",
       "      <td>1</td>\n",
       "    </tr>\n",
       "    <tr>\n",
       "      <th>4</th>\n",
       "      <td>1.0</td>\n",
       "      <td>24.59</td>\n",
       "      <td>4</td>\n",
       "      <td>0</td>\n",
       "      <td>1</td>\n",
       "      <td>0</td>\n",
       "      <td>1</td>\n",
       "      <td>0</td>\n",
       "      <td>0</td>\n",
       "      <td>0</td>\n",
       "      <td>1</td>\n",
       "      <td>0</td>\n",
       "      <td>1</td>\n",
       "    </tr>\n",
       "  </tbody>\n",
       "</table>\n",
       "</div>"
      ],
      "text/plain": [
       "   const  total_bill  size  sex_Male  sex_Female  smoker_Yes  smoker_No  \\\n",
       "0    1.0       16.99     2         0           1           0          1   \n",
       "1    1.0       10.34     3         1           0           0          1   \n",
       "2    1.0       21.01     3         1           0           0          1   \n",
       "3    1.0       23.68     2         1           0           0          1   \n",
       "4    1.0       24.59     4         0           1           0          1   \n",
       "\n",
       "   day_Thur  day_Fri  day_Sat  day_Sun  time_Lunch  time_Dinner  \n",
       "0         0        0        0        1           0            1  \n",
       "1         0        0        0        1           0            1  \n",
       "2         0        0        0        1           0            1  \n",
       "3         0        0        0        1           0            1  \n",
       "4         0        0        0        1           0            1  "
      ]
     },
     "execution_count": 26,
     "metadata": {},
     "output_type": "execute_result"
    }
   ],
   "source": [
    "# creating a constant for scipy.ols regression model\n",
    "newconstant=sts.add_constant(x)  # will add a constant\n",
    "newconstant.head()       # drawback of python to create constant"
   ]
  },
  {
   "cell_type": "code",
   "execution_count": 27,
   "metadata": {},
   "outputs": [],
   "source": [
    "##linear regression model\n",
    "model=sts.OLS(y_train,x_train).fit()"
   ]
  },
  {
   "cell_type": "code",
   "execution_count": 28,
   "metadata": {},
   "outputs": [
    {
     "data": {
      "text/plain": [
       "228    2.239951\n",
       "158    2.479137\n",
       "8      2.508764\n",
       "39     3.995201\n",
       "46     3.106829\n",
       "75     2.009542\n",
       "124    2.305850\n",
       "160    3.563788\n",
       "144    2.634412\n",
       "170    5.505980\n",
       "69     2.269293\n",
       "125    4.781890\n",
       "201    2.212917\n",
       "232    2.101041\n",
       "61     2.169477\n",
       "41     2.710060\n",
       "184    4.516128\n",
       "154    3.419886\n",
       "166    2.984554\n",
       "33     3.481616\n",
       "108    2.652524\n",
       "18     3.035762\n",
       "234    2.312547\n",
       "233    2.031169\n",
       "220    2.108812\n",
       "240    3.389214\n",
       "96     3.178930\n",
       "72     3.362596\n",
       "93     2.374896\n",
       "229    2.968323\n",
       "55     2.878916\n",
       "98     2.657390\n",
       "14     2.598916\n",
       "91     2.895057\n",
       "208    3.039540\n",
       "174    2.542265\n",
       "66     2.611252\n",
       "117    2.153631\n",
       "163    2.406453\n",
       "43     2.062919\n",
       "221    2.321239\n",
       "194    2.424709\n",
       "147    2.255110\n",
       "127    2.475538\n",
       "224    2.213619\n",
       "217    1.984817\n",
       "83     3.763908\n",
       "171    2.335837\n",
       "9      2.487138\n",
       "dtype: float64"
      ]
     },
     "execution_count": 28,
     "metadata": {},
     "output_type": "execute_result"
    }
   ],
   "source": [
    "y_pred=model.predict(x_test)\n",
    "y_pred #predicting values against fitted values"
   ]
  },
  {
   "cell_type": "code",
   "execution_count": 29,
   "metadata": {},
   "outputs": [
    {
     "data": {
      "text/html": [
       "<table class=\"simpletable\">\n",
       "<caption>OLS Regression Results</caption>\n",
       "<tr>\n",
       "  <th>Dep. Variable:</th>           <td>tip</td>       <th>  R-squared:         </th> <td>   0.472</td>\n",
       "</tr>\n",
       "<tr>\n",
       "  <th>Model:</th>                   <td>OLS</td>       <th>  Adj. R-squared:    </th> <td>   0.449</td>\n",
       "</tr>\n",
       "<tr>\n",
       "  <th>Method:</th>             <td>Least Squares</td>  <th>  F-statistic:       </th> <td>   20.78</td>\n",
       "</tr>\n",
       "<tr>\n",
       "  <th>Date:</th>             <td>Thu, 27 Feb 2020</td> <th>  Prob (F-statistic):</th> <td>2.51e-22</td>\n",
       "</tr>\n",
       "<tr>\n",
       "  <th>Time:</th>                 <td>16:50:30</td>     <th>  Log-Likelihood:    </th> <td> -276.24</td>\n",
       "</tr>\n",
       "<tr>\n",
       "  <th>No. Observations:</th>      <td>   195</td>      <th>  AIC:               </th> <td>   570.5</td>\n",
       "</tr>\n",
       "<tr>\n",
       "  <th>Df Residuals:</th>          <td>   186</td>      <th>  BIC:               </th> <td>   599.9</td>\n",
       "</tr>\n",
       "<tr>\n",
       "  <th>Df Model:</th>              <td>     8</td>      <th>                     </th>     <td> </td>   \n",
       "</tr>\n",
       "<tr>\n",
       "  <th>Covariance Type:</th>      <td>nonrobust</td>    <th>                     </th>     <td> </td>   \n",
       "</tr>\n",
       "</table>\n",
       "<table class=\"simpletable\">\n",
       "<tr>\n",
       "       <td></td>          <th>coef</th>     <th>std err</th>      <th>t</th>      <th>P>|t|</th>  <th>[0.025</th>    <th>0.975]</th>  \n",
       "</tr>\n",
       "<tr>\n",
       "  <th>total_bill</th>  <td>    0.0832</td> <td>    0.011</td> <td>    7.729</td> <td> 0.000</td> <td>    0.062</td> <td>    0.104</td>\n",
       "</tr>\n",
       "<tr>\n",
       "  <th>size</th>        <td>    0.2588</td> <td>    0.100</td> <td>    2.581</td> <td> 0.011</td> <td>    0.061</td> <td>    0.457</td>\n",
       "</tr>\n",
       "<tr>\n",
       "  <th>sex_Male</th>    <td>    0.1377</td> <td>    0.106</td> <td>    1.305</td> <td> 0.194</td> <td>   -0.070</td> <td>    0.346</td>\n",
       "</tr>\n",
       "<tr>\n",
       "  <th>sex_Female</th>  <td>    0.2453</td> <td>    0.103</td> <td>    2.392</td> <td> 0.018</td> <td>    0.043</td> <td>    0.448</td>\n",
       "</tr>\n",
       "<tr>\n",
       "  <th>smoker_Yes</th>  <td>    0.1342</td> <td>    0.105</td> <td>    1.281</td> <td> 0.202</td> <td>   -0.072</td> <td>    0.341</td>\n",
       "</tr>\n",
       "<tr>\n",
       "  <th>smoker_No</th>   <td>    0.2487</td> <td>    0.105</td> <td>    2.364</td> <td> 0.019</td> <td>    0.041</td> <td>    0.456</td>\n",
       "</tr>\n",
       "<tr>\n",
       "  <th>day_Thur</th>    <td>   -0.0292</td> <td>    0.365</td> <td>   -0.080</td> <td> 0.936</td> <td>   -0.749</td> <td>    0.691</td>\n",
       "</tr>\n",
       "<tr>\n",
       "  <th>day_Fri</th>     <td>    0.0226</td> <td>    0.243</td> <td>    0.093</td> <td> 0.926</td> <td>   -0.457</td> <td>    0.502</td>\n",
       "</tr>\n",
       "<tr>\n",
       "  <th>day_Sat</th>     <td>    0.1336</td> <td>    0.228</td> <td>    0.587</td> <td> 0.558</td> <td>   -0.315</td> <td>    0.582</td>\n",
       "</tr>\n",
       "<tr>\n",
       "  <th>day_Sun</th>     <td>    0.2560</td> <td>    0.237</td> <td>    1.081</td> <td> 0.281</td> <td>   -0.211</td> <td>    0.723</td>\n",
       "</tr>\n",
       "<tr>\n",
       "  <th>time_Lunch</th>  <td>    0.2852</td> <td>    0.300</td> <td>    0.951</td> <td> 0.343</td> <td>   -0.307</td> <td>    0.877</td>\n",
       "</tr>\n",
       "<tr>\n",
       "  <th>time_Dinner</th> <td>    0.0977</td> <td>    0.252</td> <td>    0.388</td> <td> 0.699</td> <td>   -0.399</td> <td>    0.595</td>\n",
       "</tr>\n",
       "</table>\n",
       "<table class=\"simpletable\">\n",
       "<tr>\n",
       "  <th>Omnibus:</th>       <td>19.955</td> <th>  Durbin-Watson:     </th> <td>   2.336</td>\n",
       "</tr>\n",
       "<tr>\n",
       "  <th>Prob(Omnibus):</th> <td> 0.000</td> <th>  Jarque-Bera (JB):  </th> <td>  30.876</td>\n",
       "</tr>\n",
       "<tr>\n",
       "  <th>Skew:</th>          <td> 0.588</td> <th>  Prob(JB):          </th> <td>1.97e-07</td>\n",
       "</tr>\n",
       "<tr>\n",
       "  <th>Kurtosis:</th>      <td> 4.554</td> <th>  Cond. No.          </th> <td>4.02e+17</td>\n",
       "</tr>\n",
       "</table><br/><br/>Warnings:<br/>[1] Standard Errors assume that the covariance matrix of the errors is correctly specified.<br/>[2] The smallest eigenvalue is 5.96e-31. This might indicate that there are<br/>strong multicollinearity problems or that the design matrix is singular."
      ],
      "text/plain": [
       "<class 'statsmodels.iolib.summary.Summary'>\n",
       "\"\"\"\n",
       "                            OLS Regression Results                            \n",
       "==============================================================================\n",
       "Dep. Variable:                    tip   R-squared:                       0.472\n",
       "Model:                            OLS   Adj. R-squared:                  0.449\n",
       "Method:                 Least Squares   F-statistic:                     20.78\n",
       "Date:                Thu, 27 Feb 2020   Prob (F-statistic):           2.51e-22\n",
       "Time:                        16:50:30   Log-Likelihood:                -276.24\n",
       "No. Observations:                 195   AIC:                             570.5\n",
       "Df Residuals:                     186   BIC:                             599.9\n",
       "Df Model:                           8                                         \n",
       "Covariance Type:            nonrobust                                         \n",
       "===============================================================================\n",
       "                  coef    std err          t      P>|t|      [0.025      0.975]\n",
       "-------------------------------------------------------------------------------\n",
       "total_bill      0.0832      0.011      7.729      0.000       0.062       0.104\n",
       "size            0.2588      0.100      2.581      0.011       0.061       0.457\n",
       "sex_Male        0.1377      0.106      1.305      0.194      -0.070       0.346\n",
       "sex_Female      0.2453      0.103      2.392      0.018       0.043       0.448\n",
       "smoker_Yes      0.1342      0.105      1.281      0.202      -0.072       0.341\n",
       "smoker_No       0.2487      0.105      2.364      0.019       0.041       0.456\n",
       "day_Thur       -0.0292      0.365     -0.080      0.936      -0.749       0.691\n",
       "day_Fri         0.0226      0.243      0.093      0.926      -0.457       0.502\n",
       "day_Sat         0.1336      0.228      0.587      0.558      -0.315       0.582\n",
       "day_Sun         0.2560      0.237      1.081      0.281      -0.211       0.723\n",
       "time_Lunch      0.2852      0.300      0.951      0.343      -0.307       0.877\n",
       "time_Dinner     0.0977      0.252      0.388      0.699      -0.399       0.595\n",
       "==============================================================================\n",
       "Omnibus:                       19.955   Durbin-Watson:                   2.336\n",
       "Prob(Omnibus):                  0.000   Jarque-Bera (JB):               30.876\n",
       "Skew:                           0.588   Prob(JB):                     1.97e-07\n",
       "Kurtosis:                       4.554   Cond. No.                     4.02e+17\n",
       "==============================================================================\n",
       "\n",
       "Warnings:\n",
       "[1] Standard Errors assume that the covariance matrix of the errors is correctly specified.\n",
       "[2] The smallest eigenvalue is 5.96e-31. This might indicate that there are\n",
       "strong multicollinearity problems or that the design matrix is singular.\n",
       "\"\"\""
      ]
     },
     "execution_count": 29,
     "metadata": {},
     "output_type": "execute_result"
    }
   ],
   "source": [
    "model.summary()"
   ]
  },
  {
   "cell_type": "markdown",
   "metadata": {},
   "source": [
    "## Assumptions "
   ]
  },
  {
   "cell_type": "code",
   "execution_count": 30,
   "metadata": {},
   "outputs": [],
   "source": [
    "## Resiodual plot\n",
    "residual= model.resid\n",
    "rsquare= model.rsquared\n",
    "fitted= model.fittedvalues  #predicted values"
   ]
  },
  {
   "cell_type": "code",
   "execution_count": 31,
   "metadata": {},
   "outputs": [
    {
     "data": {
      "image/png": "[encoded data removed]",
      "text/plain": [
       "<Figure size 576x396 with 1 Axes>"
      ]
     },
     "metadata": {},
     "output_type": "display_data"
    }
   ],
   "source": [
    "## ASSUMPTION:1 :-- Residual plot\n",
    "\n",
    "sns.set_style('whitegrid')\n",
    "sns.residplot(fitted,residual,color='m',lowess=True)\n",
    "plt.xlabel('fitted values')\n",
    "plt.ylabel('Residuals')\n",
    "plt.title('Residual Plot')\n",
    "plt.show()      #Residual plot b/w fitted as x axis and Residual as Y axis\n",
    "\n",
    "#there is no pattern b/w plot so linear follow by data so we need to check other assumption"
   ]
  },
  {
   "cell_type": "code",
   "execution_count": 32,
   "metadata": {},
   "outputs": [
    {
     "data": {
      "image/png": "[encoded data removed]",
      "text/plain": [
       "<Figure size 576x396 with 1 Axes>"
      ]
     },
     "metadata": {},
     "output_type": "display_data"
    }
   ],
   "source": [
    "## ASSUMPTION:1 :-- checking the Normality(probabilty plot)\n",
    "\n",
    "import pylab\n",
    "stats.probplot(residual,dist='norm',plot= pylab)\n",
    "plt.show()"
   ]
  },
  {
   "cell_type": "markdown",
   "metadata": {},
   "source": [
    "### Test of Normality\n"
   ]
  },
  {
   "cell_type": "code",
   "execution_count": 33,
   "metadata": {},
   "outputs": [
    {
     "data": {
      "text/plain": [
       "(0.9592907428741455, 2.114874769176822e-05)"
      ]
     },
     "execution_count": 33,
     "metadata": {},
     "output_type": "execute_result"
    }
   ],
   "source": [
    "## H0: error/data is normally distributed\n",
    "## H1: error/data is not normally distributed\n",
    "\n",
    "\n",
    "## alpha=0.05 \n",
    "\n",
    "from scipy.stats import shapiro\n",
    "\n",
    "shapiro(residual)\n",
    "#p value is less than 0.05 so we reject H0 and errors/data are not normal i.e we will not apply Linear Regression as it failed in 2nd assumption."
   ]
  },
  {
   "cell_type": "markdown",
   "metadata": {},
   "source": [
    "## Durbin watson test for Autocorrelation of Errors:-\n",
    "\n",
    "### It will not generate p value only generate statistic and normally range is from 0 to 4.\n",
    "where 2 represents no Autocorrelation\n",
    " 0<2 : positive correlation (seen in Time Series dataset)\n",
    "\n",
    "### The thumb rule is that any value of test statistic if lies b/w 1.5 to 2.5,it is normal in nature and if value is 1 or greater than 2.5.it is ci=onsidered to AUTOCORRELATED. "
   ]
  },
  {
   "cell_type": "code",
   "execution_count": 34,
   "metadata": {},
   "outputs": [
    {
     "data": {
      "text/plain": [
       "2.3362283469216254"
      ]
     },
     "execution_count": 34,
     "metadata": {},
     "output_type": "execute_result"
    }
   ],
   "source": [
    "##H0: Linear Regression Residuals are not correlated i.e mean is equal\n",
    "##H1: Linear Regression Residuals are correlated i.e mean is not equal\n",
    "\n",
    "\n",
    "import statsmodels.stats.api as dw\n",
    "\n",
    "dw.durbin_watson(residual)    #only this test in stats where there is no p value\n",
    "\n",
    "\n",
    "# statstics b/w 1.5 to 2.5 here so errors are not correlated and it is normal in nature"
   ]
  },
  {
   "cell_type": "markdown",
   "metadata": {},
   "source": [
    "## Hetroscedasticity:-\n",
    "\n",
    "It means that the model displays unequal variance when it was deployed. Normally the ML/Stats domain assumes that the sampled data has equal/consistent variance. This helps in developing a better model that can sustain the future predictions.However,when data shows unequal variance pattern then it is not reliable in terms of making predictions.\n",
    "\n",
    "Having said that,if the residual shows HETROSCEDASTICITY then Linear Regression is not a goos fit for data.\n"
   ]
  },
  {
   "cell_type": "code",
   "execution_count": 35,
   "metadata": {},
   "outputs": [
    {
     "data": {
      "text/plain": [
       "(0.8641051560637241, 0.7531015239303072, 'increasing')"
      ]
     },
     "execution_count": 35,
     "metadata": {},
     "output_type": "execute_result"
    }
   ],
   "source": [
    "## H0: Residuals are not heroscedasticity in nature\n",
    "## H1: Residuals are  heroscedasticity in nature\n",
    "\n",
    "import statsmodels.stats.api as gq #goldfeldquandt\n",
    "\n",
    "gq.het_goldfeldquandt(residual,x_train) \n",
    "\n",
    "# p value id greater then alpha accept H0 so no hetroscedasticity in residual\n",
    "                                  ## increasing means increasing in order of hetroscedasticity and same as in decreasing order"
   ]
  },
  {
   "cell_type": "code",
   "execution_count": 36,
   "metadata": {},
   "outputs": [
    {
     "data": {
      "text/plain": [
       "(33.73464173937238,\n",
       " 0.0003996482845668421,\n",
       " 4.863601389039913,\n",
       " 1.8403292725949423e-05)"
      ]
     },
     "execution_count": 36,
     "metadata": {},
     "output_type": "execute_result"
    }
   ],
   "source": [
    "gq.het_breuschpagan(residual,x_train)"
   ]
  },
  {
   "cell_type": "markdown",
   "metadata": {},
   "source": [
    "## Linearity: - RAINBOW TEST\n",
    "\n"
   ]
  },
  {
   "cell_type": "code",
   "execution_count": 37,
   "metadata": {},
   "outputs": [
    {
     "data": {
      "text/plain": [
       "(0.9707888249390191, 0.5580875042286176)"
      ]
     },
     "execution_count": 37,
     "metadata": {},
     "output_type": "execute_result"
    }
   ],
   "source": [
    "## H0: Data is Linear in Nature\n",
    "## H1:  Data is Linear in not Nature\n",
    "import statsmodels.api as lrain\n",
    "\n",
    "lrain.stats.diagnostic.linear_rainbow(model)\n",
    "# p value id greater then alpha accept H0 so Data is Linear in Nature\n"
   ]
  },
  {
   "cell_type": "markdown",
   "metadata": {},
   "source": [
    "## Multicollinearity\n",
    "\n",
    "In order to check Multicollinearity ,we use Variande Inflation Factor (VIF) amongs the predictiors .\n",
    "\n",
    "and it will always apply on orginal data not on train and test and data must be numerical or dummy\n",
    "\n",
    "1. Greater than 10: Multicollinear and need to drop such columns as there are not able to provide meaningful information for LR model.and sumtimes transform by taking average or sum of columns.\n",
    "\n",
    "2. "
   ]
  },
  {
   "cell_type": "code",
   "execution_count": 38,
   "metadata": {},
   "outputs": [],
   "source": [
    "from statsmodels.stats.outliers_influence import variance_inflation_factor\n",
    " \n",
    "## for each predictors,calculate VIF and save it in DataFrame\n",
    "\n",
    "vif=pd.DataFrame()"
   ]
  },
  {
   "cell_type": "code",
   "execution_count": 39,
   "metadata": {},
   "outputs": [],
   "source": [
    "tips_dummy['constant']=1 #adding a constant for VIF"
   ]
  },
  {
   "cell_type": "code",
   "execution_count": 40,
   "metadata": {},
   "outputs": [
    {
     "data": {
      "text/plain": [
       "array([[16.99,  1.01,  2.  , ...,  0.  ,  1.  ,  1.  ],\n",
       "       [10.34,  1.66,  3.  , ...,  0.  ,  1.  ,  1.  ],\n",
       "       [21.01,  3.5 ,  3.  , ...,  0.  ,  1.  ,  1.  ],\n",
       "       ...,\n",
       "       [22.67,  2.  ,  2.  , ...,  0.  ,  1.  ,  1.  ],\n",
       "       [17.82,  1.75,  2.  , ...,  0.  ,  1.  ,  1.  ],\n",
       "       [18.78,  3.  ,  2.  , ...,  0.  ,  1.  ,  1.  ]])"
      ]
     },
     "execution_count": 40,
     "metadata": {},
     "output_type": "execute_result"
    }
   ],
   "source": [
    "tips_dummy.values"
   ]
  },
  {
   "cell_type": "code",
   "execution_count": 41,
   "metadata": {},
   "outputs": [
    {
     "name": "stderr",
     "output_type": "stream",
     "text": [
      "C:\\Users\\hp\\Anaconda3\\lib\\site-packages\\statsmodels\\stats\\outliers_influence.py:185: RuntimeWarning: divide by zero encountered in double_scalars\n",
      "  vif = 1. / (1. - r_squared_i)\n",
      "C:\\Users\\hp\\Anaconda3\\lib\\site-packages\\statsmodels\\regression\\linear_model.py:1636: RuntimeWarning: divide by zero encountered in double_scalars\n",
      "  return 1 - self.ssr/self.centered_tss\n"
     ]
    },
    {
     "data": {
      "text/plain": [
       "[2.389803336631928,\n",
       " 1.887070611384294,\n",
       " 1.7071110296251015,\n",
       " inf,\n",
       " inf,\n",
       " inf,\n",
       " inf,\n",
       " inf,\n",
       " inf,\n",
       " inf,\n",
       " inf,\n",
       " inf,\n",
       " inf,\n",
       " 0.0]"
      ]
     },
     "execution_count": 41,
     "metadata": {},
     "output_type": "execute_result"
    }
   ],
   "source": [
    "vif=[variance_inflation_factor(tips_dummy.values,i)\n",
    "     for i in range(tips_dummy.shape[1])]\n",
    "vif"
   ]
  },
  {
   "cell_type": "code",
   "execution_count": 131,
   "metadata": {},
   "outputs": [
    {
     "data": {
      "text/html": [
       "<div>\n",
       "<style scoped>\n",
       "    .dataframe tbody tr th:only-of-type {\n",
       "        vertical-align: middle;\n",
       "    }\n",
       "\n",
       "    .dataframe tbody tr th {\n",
       "        vertical-align: top;\n",
       "    }\n",
       "\n",
       "    .dataframe thead th {\n",
       "        text-align: right;\n",
       "    }\n",
       "</style>\n",
       "<table border=\"1\" class=\"dataframe\">\n",
       "  <thead>\n",
       "    <tr style=\"text-align: right;\">\n",
       "      <th></th>\n",
       "      <th>VIF</th>\n",
       "    </tr>\n",
       "  </thead>\n",
       "  <tbody>\n",
       "    <tr>\n",
       "      <th>total_bill</th>\n",
       "      <td>2.389803</td>\n",
       "    </tr>\n",
       "    <tr>\n",
       "      <th>tip</th>\n",
       "      <td>1.887071</td>\n",
       "    </tr>\n",
       "    <tr>\n",
       "      <th>size</th>\n",
       "      <td>1.707111</td>\n",
       "    </tr>\n",
       "    <tr>\n",
       "      <th>sex_Male</th>\n",
       "      <td>inf</td>\n",
       "    </tr>\n",
       "    <tr>\n",
       "      <th>sex_Female</th>\n",
       "      <td>inf</td>\n",
       "    </tr>\n",
       "    <tr>\n",
       "      <th>smoker_Yes</th>\n",
       "      <td>inf</td>\n",
       "    </tr>\n",
       "    <tr>\n",
       "      <th>smoker_No</th>\n",
       "      <td>inf</td>\n",
       "    </tr>\n",
       "    <tr>\n",
       "      <th>day_Thur</th>\n",
       "      <td>inf</td>\n",
       "    </tr>\n",
       "    <tr>\n",
       "      <th>day_Fri</th>\n",
       "      <td>inf</td>\n",
       "    </tr>\n",
       "    <tr>\n",
       "      <th>day_Sat</th>\n",
       "      <td>inf</td>\n",
       "    </tr>\n",
       "    <tr>\n",
       "      <th>day_Sun</th>\n",
       "      <td>inf</td>\n",
       "    </tr>\n",
       "    <tr>\n",
       "      <th>time_Lunch</th>\n",
       "      <td>inf</td>\n",
       "    </tr>\n",
       "    <tr>\n",
       "      <th>time_Dinner</th>\n",
       "      <td>inf</td>\n",
       "    </tr>\n",
       "  </tbody>\n",
       "</table>\n",
       "</div>"
      ],
      "text/plain": [
       "                  VIF\n",
       "total_bill   2.389803\n",
       "tip          1.887071\n",
       "size         1.707111\n",
       "sex_Male          inf\n",
       "sex_Female        inf\n",
       "smoker_Yes        inf\n",
       "smoker_No         inf\n",
       "day_Thur          inf\n",
       "day_Fri           inf\n",
       "day_Sat           inf\n",
       "day_Sun           inf\n",
       "time_Lunch        inf\n",
       "time_Dinner       inf"
      ]
     },
     "execution_count": 131,
     "metadata": {},
     "output_type": "execute_result"
    }
   ],
   "source": [
    "pd.DataFrame({'VIF':vif[0:]},index=tips_dummy.columns)   #categorical variable due to which multicollinearity is infinite and rest tips and size is not multicollinear"
   ]
  },
  {
   "cell_type": "code",
   "execution_count": null,
   "metadata": {},
   "outputs": [],
   "source": []
  },
  {
   "cell_type": "code",
   "execution_count": null,
   "metadata": {},
   "outputs": [],
   "source": []
  },
  {
   "cell_type": "code",
   "execution_count": null,
   "metadata": {},
   "outputs": [],
   "source": []
  },
  {
   "cell_type": "code",
   "execution_count": null,
   "metadata": {},
   "outputs": [],
   "source": []
  },
  {
   "cell_type": "code",
   "execution_count": null,
   "metadata": {},
   "outputs": [],
   "source": []
  }
 ],
 "metadata": {
  "kernelspec": {
   "display_name": "Python 3",
   "language": "python",
   "name": "python3"
  },
  "language_info": {
   "codemirror_mode": {
    "name": "ipython",
    "version": 3
   },
   "file_extension": ".py",
   "mimetype": "text/x-python",
   "name": "python",
   "nbconvert_exporter": "python",
   "pygments_lexer": "ipython3",
   "version": "3.7.3"
  }
 },
 "nbformat": 4,
 "nbformat_minor": 2
}
